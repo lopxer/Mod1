{
  "nbformat": 4,
  "nbformat_minor": 0,
  "metadata": {
    "colab": {
      "provenance": []
    },
    "kernelspec": {
      "name": "python3",
      "display_name": "Python 3"
    },
    "language_info": {
      "name": "python"
    }
  },
  "cells": [
    {
      "cell_type": "code",
      "source": [
        "def empty_paste():\n",
        "  print(\"This is an empty paste, just for testing :)\")"
      ],
      "metadata": {
        "id": "dTzXt3vCiT64"
      },
      "execution_count": null,
      "outputs": []
    }
  ]
}